{
  "nbformat": 4,
  "nbformat_minor": 0,
  "metadata": {
    "colab": {
      "name": "first_test.ipynb",
      "provenance": [],
      "include_colab_link": true
    },
    "kernelspec": {
      "name": "python3",
      "display_name": "Python 3"
    },
    "language_info": {
      "name": "python"
    },
    "widgets": {
      "application/vnd.jupyter.widget-state+json": {
        "26316eb0b7174411ada23c306c2b9305": {
          "model_module": "@jupyter-widgets/controls",
          "model_name": "HBoxModel",
          "model_module_version": "1.5.0",
          "state": {
            "_dom_classes": [],
            "_model_module": "@jupyter-widgets/controls",
            "_model_module_version": "1.5.0",
            "_model_name": "HBoxModel",
            "_view_count": null,
            "_view_module": "@jupyter-widgets/controls",
            "_view_module_version": "1.5.0",
            "_view_name": "HBoxView",
            "box_style": "",
            "children": [
              "IPY_MODEL_3044af9829dc42879425cd36d1a1e626",
              "IPY_MODEL_594665a1dcde464aa545bbc6909ad242",
              "IPY_MODEL_314478a5c1f3487b86f274ba70d19fcb"
            ],
            "layout": "IPY_MODEL_a9d79ea8ea1c45c1b81a3b5ab541fb4d"
          }
        },
        "3044af9829dc42879425cd36d1a1e626": {
          "model_module": "@jupyter-widgets/controls",
          "model_name": "HTMLModel",
          "model_module_version": "1.5.0",
          "state": {
            "_dom_classes": [],
            "_model_module": "@jupyter-widgets/controls",
            "_model_module_version": "1.5.0",
            "_model_name": "HTMLModel",
            "_view_count": null,
            "_view_module": "@jupyter-widgets/controls",
            "_view_module_version": "1.5.0",
            "_view_name": "HTMLView",
            "description": "",
            "description_tooltip": null,
            "layout": "IPY_MODEL_3bce806ce7ea470a9ac63075fed76bf5",
            "placeholder": "​",
            "style": "IPY_MODEL_de8f1f2f55354ba9a44d2c7fe3303669",
            "value": "100%"
          }
        },
        "594665a1dcde464aa545bbc6909ad242": {
          "model_module": "@jupyter-widgets/controls",
          "model_name": "FloatProgressModel",
          "model_module_version": "1.5.0",
          "state": {
            "_dom_classes": [],
            "_model_module": "@jupyter-widgets/controls",
            "_model_module_version": "1.5.0",
            "_model_name": "FloatProgressModel",
            "_view_count": null,
            "_view_module": "@jupyter-widgets/controls",
            "_view_module_version": "1.5.0",
            "_view_name": "ProgressView",
            "bar_style": "success",
            "description": "",
            "description_tooltip": null,
            "layout": "IPY_MODEL_bc22cb856455453c82b9c8871b5ba04c",
            "max": 32792,
            "min": 0,
            "orientation": "horizontal",
            "style": "IPY_MODEL_ea69f72993f14e5d8102fa66c8bb7efb",
            "value": 32792
          }
        },
        "314478a5c1f3487b86f274ba70d19fcb": {
          "model_module": "@jupyter-widgets/controls",
          "model_name": "HTMLModel",
          "model_module_version": "1.5.0",
          "state": {
            "_dom_classes": [],
            "_model_module": "@jupyter-widgets/controls",
            "_model_module_version": "1.5.0",
            "_model_name": "HTMLModel",
            "_view_count": null,
            "_view_module": "@jupyter-widgets/controls",
            "_view_module_version": "1.5.0",
            "_view_name": "HTMLView",
            "description": "",
            "description_tooltip": null,
            "layout": "IPY_MODEL_d78d2612effd4edfa2d28db956e4db55",
            "placeholder": "​",
            "style": "IPY_MODEL_d44c3fb1841c497aaed82ebb8a9eb0ef",
            "value": " 32792/32792 [00:17&lt;00:00, 1359.36it/s]"
          }
        },
        "a9d79ea8ea1c45c1b81a3b5ab541fb4d": {
          "model_module": "@jupyter-widgets/base",
          "model_name": "LayoutModel",
          "model_module_version": "1.2.0",
          "state": {
            "_model_module": "@jupyter-widgets/base",
            "_model_module_version": "1.2.0",
            "_model_name": "LayoutModel",
            "_view_count": null,
            "_view_module": "@jupyter-widgets/base",
            "_view_module_version": "1.2.0",
            "_view_name": "LayoutView",
            "align_content": null,
            "align_items": null,
            "align_self": null,
            "border": null,
            "bottom": null,
            "display": null,
            "flex": null,
            "flex_flow": null,
            "grid_area": null,
            "grid_auto_columns": null,
            "grid_auto_flow": null,
            "grid_auto_rows": null,
            "grid_column": null,
            "grid_gap": null,
            "grid_row": null,
            "grid_template_areas": null,
            "grid_template_columns": null,
            "grid_template_rows": null,
            "height": null,
            "justify_content": null,
            "justify_items": null,
            "left": null,
            "margin": null,
            "max_height": null,
            "max_width": null,
            "min_height": null,
            "min_width": null,
            "object_fit": null,
            "object_position": null,
            "order": null,
            "overflow": null,
            "overflow_x": null,
            "overflow_y": null,
            "padding": null,
            "right": null,
            "top": null,
            "visibility": null,
            "width": null
          }
        },
        "3bce806ce7ea470a9ac63075fed76bf5": {
          "model_module": "@jupyter-widgets/base",
          "model_name": "LayoutModel",
          "model_module_version": "1.2.0",
          "state": {
            "_model_module": "@jupyter-widgets/base",
            "_model_module_version": "1.2.0",
            "_model_name": "LayoutModel",
            "_view_count": null,
            "_view_module": "@jupyter-widgets/base",
            "_view_module_version": "1.2.0",
            "_view_name": "LayoutView",
            "align_content": null,
            "align_items": null,
            "align_self": null,
            "border": null,
            "bottom": null,
            "display": null,
            "flex": null,
            "flex_flow": null,
            "grid_area": null,
            "grid_auto_columns": null,
            "grid_auto_flow": null,
            "grid_auto_rows": null,
            "grid_column": null,
            "grid_gap": null,
            "grid_row": null,
            "grid_template_areas": null,
            "grid_template_columns": null,
            "grid_template_rows": null,
            "height": null,
            "justify_content": null,
            "justify_items": null,
            "left": null,
            "margin": null,
            "max_height": null,
            "max_width": null,
            "min_height": null,
            "min_width": null,
            "object_fit": null,
            "object_position": null,
            "order": null,
            "overflow": null,
            "overflow_x": null,
            "overflow_y": null,
            "padding": null,
            "right": null,
            "top": null,
            "visibility": null,
            "width": null
          }
        },
        "de8f1f2f55354ba9a44d2c7fe3303669": {
          "model_module": "@jupyter-widgets/controls",
          "model_name": "DescriptionStyleModel",
          "model_module_version": "1.5.0",
          "state": {
            "_model_module": "@jupyter-widgets/controls",
            "_model_module_version": "1.5.0",
            "_model_name": "DescriptionStyleModel",
            "_view_count": null,
            "_view_module": "@jupyter-widgets/base",
            "_view_module_version": "1.2.0",
            "_view_name": "StyleView",
            "description_width": ""
          }
        },
        "bc22cb856455453c82b9c8871b5ba04c": {
          "model_module": "@jupyter-widgets/base",
          "model_name": "LayoutModel",
          "model_module_version": "1.2.0",
          "state": {
            "_model_module": "@jupyter-widgets/base",
            "_model_module_version": "1.2.0",
            "_model_name": "LayoutModel",
            "_view_count": null,
            "_view_module": "@jupyter-widgets/base",
            "_view_module_version": "1.2.0",
            "_view_name": "LayoutView",
            "align_content": null,
            "align_items": null,
            "align_self": null,
            "border": null,
            "bottom": null,
            "display": null,
            "flex": null,
            "flex_flow": null,
            "grid_area": null,
            "grid_auto_columns": null,
            "grid_auto_flow": null,
            "grid_auto_rows": null,
            "grid_column": null,
            "grid_gap": null,
            "grid_row": null,
            "grid_template_areas": null,
            "grid_template_columns": null,
            "grid_template_rows": null,
            "height": null,
            "justify_content": null,
            "justify_items": null,
            "left": null,
            "margin": null,
            "max_height": null,
            "max_width": null,
            "min_height": null,
            "min_width": null,
            "object_fit": null,
            "object_position": null,
            "order": null,
            "overflow": null,
            "overflow_x": null,
            "overflow_y": null,
            "padding": null,
            "right": null,
            "top": null,
            "visibility": null,
            "width": null
          }
        },
        "ea69f72993f14e5d8102fa66c8bb7efb": {
          "model_module": "@jupyter-widgets/controls",
          "model_name": "ProgressStyleModel",
          "model_module_version": "1.5.0",
          "state": {
            "_model_module": "@jupyter-widgets/controls",
            "_model_module_version": "1.5.0",
            "_model_name": "ProgressStyleModel",
            "_view_count": null,
            "_view_module": "@jupyter-widgets/base",
            "_view_module_version": "1.2.0",
            "_view_name": "StyleView",
            "bar_color": null,
            "description_width": ""
          }
        },
        "d78d2612effd4edfa2d28db956e4db55": {
          "model_module": "@jupyter-widgets/base",
          "model_name": "LayoutModel",
          "model_module_version": "1.2.0",
          "state": {
            "_model_module": "@jupyter-widgets/base",
            "_model_module_version": "1.2.0",
            "_model_name": "LayoutModel",
            "_view_count": null,
            "_view_module": "@jupyter-widgets/base",
            "_view_module_version": "1.2.0",
            "_view_name": "LayoutView",
            "align_content": null,
            "align_items": null,
            "align_self": null,
            "border": null,
            "bottom": null,
            "display": null,
            "flex": null,
            "flex_flow": null,
            "grid_area": null,
            "grid_auto_columns": null,
            "grid_auto_flow": null,
            "grid_auto_rows": null,
            "grid_column": null,
            "grid_gap": null,
            "grid_row": null,
            "grid_template_areas": null,
            "grid_template_columns": null,
            "grid_template_rows": null,
            "height": null,
            "justify_content": null,
            "justify_items": null,
            "left": null,
            "margin": null,
            "max_height": null,
            "max_width": null,
            "min_height": null,
            "min_width": null,
            "object_fit": null,
            "object_position": null,
            "order": null,
            "overflow": null,
            "overflow_x": null,
            "overflow_y": null,
            "padding": null,
            "right": null,
            "top": null,
            "visibility": null,
            "width": null
          }
        },
        "d44c3fb1841c497aaed82ebb8a9eb0ef": {
          "model_module": "@jupyter-widgets/controls",
          "model_name": "DescriptionStyleModel",
          "model_module_version": "1.5.0",
          "state": {
            "_model_module": "@jupyter-widgets/controls",
            "_model_module_version": "1.5.0",
            "_model_name": "DescriptionStyleModel",
            "_view_count": null,
            "_view_module": "@jupyter-widgets/base",
            "_view_module_version": "1.2.0",
            "_view_name": "StyleView",
            "description_width": ""
          }
        },
        "650afad2108f43e78d91d6c774f65310": {
          "model_module": "@jupyter-widgets/controls",
          "model_name": "HBoxModel",
          "model_module_version": "1.5.0",
          "state": {
            "_dom_classes": [],
            "_model_module": "@jupyter-widgets/controls",
            "_model_module_version": "1.5.0",
            "_model_name": "HBoxModel",
            "_view_count": null,
            "_view_module": "@jupyter-widgets/controls",
            "_view_module_version": "1.5.0",
            "_view_name": "HBoxView",
            "box_style": "",
            "children": [
              "IPY_MODEL_8db5dd3f296f4ee785974ccaa6b9efc6",
              "IPY_MODEL_15888c7afc3f48a9ae80366d21af8257",
              "IPY_MODEL_4c81fba71e614a738636e376d841ec89"
            ],
            "layout": "IPY_MODEL_169618b785f04f918add689f4f8b49ef"
          }
        },
        "8db5dd3f296f4ee785974ccaa6b9efc6": {
          "model_module": "@jupyter-widgets/controls",
          "model_name": "HTMLModel",
          "model_module_version": "1.5.0",
          "state": {
            "_dom_classes": [],
            "_model_module": "@jupyter-widgets/controls",
            "_model_module_version": "1.5.0",
            "_model_name": "HTMLModel",
            "_view_count": null,
            "_view_module": "@jupyter-widgets/controls",
            "_view_module_version": "1.5.0",
            "_view_name": "HTMLView",
            "description": "",
            "description_tooltip": null,
            "layout": "IPY_MODEL_6a73952d8972483a99c1a789b2f89c82",
            "placeholder": "​",
            "style": "IPY_MODEL_85d84d989f89429284eacc26bde02722",
            "value": "100%"
          }
        },
        "15888c7afc3f48a9ae80366d21af8257": {
          "model_module": "@jupyter-widgets/controls",
          "model_name": "FloatProgressModel",
          "model_module_version": "1.5.0",
          "state": {
            "_dom_classes": [],
            "_model_module": "@jupyter-widgets/controls",
            "_model_module_version": "1.5.0",
            "_model_name": "FloatProgressModel",
            "_view_count": null,
            "_view_module": "@jupyter-widgets/controls",
            "_view_module_version": "1.5.0",
            "_view_name": "ProgressView",
            "bar_style": "success",
            "description": "",
            "description_tooltip": null,
            "layout": "IPY_MODEL_2694ce13eeb44b8abfdc5dd27c415586",
            "max": 8199,
            "min": 0,
            "orientation": "horizontal",
            "style": "IPY_MODEL_8c3ce6ec6cda40b48f794b839a2d41f2",
            "value": 8199
          }
        },
        "4c81fba71e614a738636e376d841ec89": {
          "model_module": "@jupyter-widgets/controls",
          "model_name": "HTMLModel",
          "model_module_version": "1.5.0",
          "state": {
            "_dom_classes": [],
            "_model_module": "@jupyter-widgets/controls",
            "_model_module_version": "1.5.0",
            "_model_name": "HTMLModel",
            "_view_count": null,
            "_view_module": "@jupyter-widgets/controls",
            "_view_module_version": "1.5.0",
            "_view_name": "HTMLView",
            "description": "",
            "description_tooltip": null,
            "layout": "IPY_MODEL_53853a5b2f234131bc5b803d8be87a34",
            "placeholder": "​",
            "style": "IPY_MODEL_bc11aaf8d8494a239d4b1eda0f723b65",
            "value": " 8199/8199 [00:07&lt;00:00, 1049.90it/s]"
          }
        },
        "169618b785f04f918add689f4f8b49ef": {
          "model_module": "@jupyter-widgets/base",
          "model_name": "LayoutModel",
          "model_module_version": "1.2.0",
          "state": {
            "_model_module": "@jupyter-widgets/base",
            "_model_module_version": "1.2.0",
            "_model_name": "LayoutModel",
            "_view_count": null,
            "_view_module": "@jupyter-widgets/base",
            "_view_module_version": "1.2.0",
            "_view_name": "LayoutView",
            "align_content": null,
            "align_items": null,
            "align_self": null,
            "border": null,
            "bottom": null,
            "display": null,
            "flex": null,
            "flex_flow": null,
            "grid_area": null,
            "grid_auto_columns": null,
            "grid_auto_flow": null,
            "grid_auto_rows": null,
            "grid_column": null,
            "grid_gap": null,
            "grid_row": null,
            "grid_template_areas": null,
            "grid_template_columns": null,
            "grid_template_rows": null,
            "height": null,
            "justify_content": null,
            "justify_items": null,
            "left": null,
            "margin": null,
            "max_height": null,
            "max_width": null,
            "min_height": null,
            "min_width": null,
            "object_fit": null,
            "object_position": null,
            "order": null,
            "overflow": null,
            "overflow_x": null,
            "overflow_y": null,
            "padding": null,
            "right": null,
            "top": null,
            "visibility": null,
            "width": null
          }
        },
        "6a73952d8972483a99c1a789b2f89c82": {
          "model_module": "@jupyter-widgets/base",
          "model_name": "LayoutModel",
          "model_module_version": "1.2.0",
          "state": {
            "_model_module": "@jupyter-widgets/base",
            "_model_module_version": "1.2.0",
            "_model_name": "LayoutModel",
            "_view_count": null,
            "_view_module": "@jupyter-widgets/base",
            "_view_module_version": "1.2.0",
            "_view_name": "LayoutView",
            "align_content": null,
            "align_items": null,
            "align_self": null,
            "border": null,
            "bottom": null,
            "display": null,
            "flex": null,
            "flex_flow": null,
            "grid_area": null,
            "grid_auto_columns": null,
            "grid_auto_flow": null,
            "grid_auto_rows": null,
            "grid_column": null,
            "grid_gap": null,
            "grid_row": null,
            "grid_template_areas": null,
            "grid_template_columns": null,
            "grid_template_rows": null,
            "height": null,
            "justify_content": null,
            "justify_items": null,
            "left": null,
            "margin": null,
            "max_height": null,
            "max_width": null,
            "min_height": null,
            "min_width": null,
            "object_fit": null,
            "object_position": null,
            "order": null,
            "overflow": null,
            "overflow_x": null,
            "overflow_y": null,
            "padding": null,
            "right": null,
            "top": null,
            "visibility": null,
            "width": null
          }
        },
        "85d84d989f89429284eacc26bde02722": {
          "model_module": "@jupyter-widgets/controls",
          "model_name": "DescriptionStyleModel",
          "model_module_version": "1.5.0",
          "state": {
            "_model_module": "@jupyter-widgets/controls",
            "_model_module_version": "1.5.0",
            "_model_name": "DescriptionStyleModel",
            "_view_count": null,
            "_view_module": "@jupyter-widgets/base",
            "_view_module_version": "1.2.0",
            "_view_name": "StyleView",
            "description_width": ""
          }
        },
        "2694ce13eeb44b8abfdc5dd27c415586": {
          "model_module": "@jupyter-widgets/base",
          "model_name": "LayoutModel",
          "model_module_version": "1.2.0",
          "state": {
            "_model_module": "@jupyter-widgets/base",
            "_model_module_version": "1.2.0",
            "_model_name": "LayoutModel",
            "_view_count": null,
            "_view_module": "@jupyter-widgets/base",
            "_view_module_version": "1.2.0",
            "_view_name": "LayoutView",
            "align_content": null,
            "align_items": null,
            "align_self": null,
            "border": null,
            "bottom": null,
            "display": null,
            "flex": null,
            "flex_flow": null,
            "grid_area": null,
            "grid_auto_columns": null,
            "grid_auto_flow": null,
            "grid_auto_rows": null,
            "grid_column": null,
            "grid_gap": null,
            "grid_row": null,
            "grid_template_areas": null,
            "grid_template_columns": null,
            "grid_template_rows": null,
            "height": null,
            "justify_content": null,
            "justify_items": null,
            "left": null,
            "margin": null,
            "max_height": null,
            "max_width": null,
            "min_height": null,
            "min_width": null,
            "object_fit": null,
            "object_position": null,
            "order": null,
            "overflow": null,
            "overflow_x": null,
            "overflow_y": null,
            "padding": null,
            "right": null,
            "top": null,
            "visibility": null,
            "width": null
          }
        },
        "8c3ce6ec6cda40b48f794b839a2d41f2": {
          "model_module": "@jupyter-widgets/controls",
          "model_name": "ProgressStyleModel",
          "model_module_version": "1.5.0",
          "state": {
            "_model_module": "@jupyter-widgets/controls",
            "_model_module_version": "1.5.0",
            "_model_name": "ProgressStyleModel",
            "_view_count": null,
            "_view_module": "@jupyter-widgets/base",
            "_view_module_version": "1.2.0",
            "_view_name": "StyleView",
            "bar_color": null,
            "description_width": ""
          }
        },
        "53853a5b2f234131bc5b803d8be87a34": {
          "model_module": "@jupyter-widgets/base",
          "model_name": "LayoutModel",
          "model_module_version": "1.2.0",
          "state": {
            "_model_module": "@jupyter-widgets/base",
            "_model_module_version": "1.2.0",
            "_model_name": "LayoutModel",
            "_view_count": null,
            "_view_module": "@jupyter-widgets/base",
            "_view_module_version": "1.2.0",
            "_view_name": "LayoutView",
            "align_content": null,
            "align_items": null,
            "align_self": null,
            "border": null,
            "bottom": null,
            "display": null,
            "flex": null,
            "flex_flow": null,
            "grid_area": null,
            "grid_auto_columns": null,
            "grid_auto_flow": null,
            "grid_auto_rows": null,
            "grid_column": null,
            "grid_gap": null,
            "grid_row": null,
            "grid_template_areas": null,
            "grid_template_columns": null,
            "grid_template_rows": null,
            "height": null,
            "justify_content": null,
            "justify_items": null,
            "left": null,
            "margin": null,
            "max_height": null,
            "max_width": null,
            "min_height": null,
            "min_width": null,
            "object_fit": null,
            "object_position": null,
            "order": null,
            "overflow": null,
            "overflow_x": null,
            "overflow_y": null,
            "padding": null,
            "right": null,
            "top": null,
            "visibility": null,
            "width": null
          }
        },
        "bc11aaf8d8494a239d4b1eda0f723b65": {
          "model_module": "@jupyter-widgets/controls",
          "model_name": "DescriptionStyleModel",
          "model_module_version": "1.5.0",
          "state": {
            "_model_module": "@jupyter-widgets/controls",
            "_model_module_version": "1.5.0",
            "_model_name": "DescriptionStyleModel",
            "_view_count": null,
            "_view_module": "@jupyter-widgets/base",
            "_view_module_version": "1.2.0",
            "_view_name": "StyleView",
            "description_width": ""
          }
        }
      }
    }
  },
  "cells": [
    {
      "cell_type": "markdown",
      "metadata": {
        "id": "view-in-github",
        "colab_type": "text"
      },
      "source": [
        "<a href=\"https://colab.research.google.com/github/Mergim01/RiverStreamClassification/blob/main/Notebooks/first_test.ipynb\" target=\"_parent\"><img src=\"https://colab.research.google.com/assets/colab-badge.svg\" alt=\"Open In Colab\"/></a>"
      ]
    },
    {
      "cell_type": "code",
      "source": [
        "pip install git+https://github.com/online-ml/river --upgrade"
      ],
      "metadata": {
        "colab": {
          "base_uri": "https://localhost:8080/"
        },
        "id": "QOYE6FwHY8Nf",
        "outputId": "a8191ac3-8d27-4f1c-a911-c9e72e953897"
      },
      "execution_count": 22,
      "outputs": [
        {
          "output_type": "stream",
          "name": "stdout",
          "text": [
            "Collecting git+https://github.com/online-ml/river\n",
            "  Cloning https://github.com/online-ml/river to /tmp/pip-req-build-j2jw5z5d\n",
            "  Running command git clone -q https://github.com/online-ml/river /tmp/pip-req-build-j2jw5z5d\n",
            "Requirement already satisfied: numpy>=1.20.0 in /usr/local/lib/python3.7/dist-packages (from river==0.10.1) (1.21.6)\n",
            "Requirement already satisfied: scipy>=1.4.1 in /usr/local/lib/python3.7/dist-packages (from river==0.10.1) (1.4.1)\n",
            "Requirement already satisfied: pandas>=1.0.1 in /usr/local/lib/python3.7/dist-packages (from river==0.10.1) (1.3.5)\n",
            "Requirement already satisfied: python-dateutil>=2.7.3 in /usr/local/lib/python3.7/dist-packages (from pandas>=1.0.1->river==0.10.1) (2.8.2)\n",
            "Requirement already satisfied: pytz>=2017.3 in /usr/local/lib/python3.7/dist-packages (from pandas>=1.0.1->river==0.10.1) (2022.1)\n",
            "Requirement already satisfied: six>=1.5 in /usr/local/lib/python3.7/dist-packages (from python-dateutil>=2.7.3->pandas>=1.0.1->river==0.10.1) (1.15.0)\n"
          ]
        }
      ]
    },
    {
      "cell_type": "code",
      "source": [
        "import pandas as pd\n",
        "import river\n",
        "import numpy as np\n",
        "from tqdm.notebook import tqdm"
      ],
      "metadata": {
        "id": "S3T0VuyUZYOr"
      },
      "execution_count": 23,
      "outputs": []
    },
    {
      "cell_type": "code",
      "source": [
        "df = pd.read_csv(\"https://raw.githubusercontent.com/Mergim01/RiverStreamClassification/main/Data/ClimateGPT.csv\")\n",
        "# Convert to Format\n",
        "df.to_dict()\n",
        "df.info()"
      ],
      "metadata": {
        "id": "QY7r3q2qY_Cg",
        "colab": {
          "base_uri": "https://localhost:8080/"
        },
        "outputId": "a4e2bfcf-be28-4262-b624-d5dd6da8196c"
      },
      "execution_count": 24,
      "outputs": [
        {
          "output_type": "stream",
          "name": "stdout",
          "text": [
            "<class 'pandas.core.frame.DataFrame'>\n",
            "RangeIndex: 40999 entries, 0 to 40998\n",
            "Data columns (total 6 columns):\n",
            " #   Column      Non-Null Count  Dtype  \n",
            "---  ------      --------------  -----  \n",
            " 0   Unnamed: 0  40999 non-null  object \n",
            " 1   id          40997 non-null  object \n",
            " 2   timestamp   40997 non-null  object \n",
            " 3   text        40992 non-null  object \n",
            " 4   user        40995 non-null  object \n",
            " 5   artificial  40995 non-null  float64\n",
            "dtypes: float64(1), object(5)\n",
            "memory usage: 1.9+ MB\n"
          ]
        }
      ]
    },
    {
      "cell_type": "code",
      "source": [
        "df.head()"
      ],
      "metadata": {
        "id": "He0FcM0JEoLJ",
        "outputId": "70fdf9e4-7d6a-4081-f335-774cadf0f411",
        "colab": {
          "base_uri": "https://localhost:8080/",
          "height": 206
        }
      },
      "execution_count": 25,
      "outputs": [
        {
          "output_type": "execute_result",
          "data": {
            "text/plain": [
              "  Unnamed: 0                   id            timestamp  \\\n",
              "0          0  1450038951205478400  2021-10-18 12:00:01   \n",
              "1          1  1450038955026501632  2021-10-18 12:00:01   \n",
              "2          2  1450038953743163392  2021-10-18 12:00:01   \n",
              "3          3  1450038951742423040  2021-10-18 12:00:01   \n",
              "4          4  1450038953147572224  2021-10-18 12:00:01   \n",
              "\n",
              "                                                text                  user  \\\n",
              "0  25/10 (9:00 VN Time) | #GreenFinance | The rol...  f3e7eea57bbc27edeacc   \n",
              "1  How do we prevent the earth from warming any m...  cb7a6648c19c4dcc38d8   \n",
              "2  Event for DMU Staff and Students👀❗  26 Ideas f...  edd981dafb529ff6c167   \n",
              "3  Chair of the Climate Change Advisory Council h...  a684f497e873988c9491   \n",
              "4  Back in August, it was no surprise when the Un...  214e29e1cffaec3e44b1   \n",
              "\n",
              "   artificial  \n",
              "0         0.0  \n",
              "1         0.0  \n",
              "2         0.0  \n",
              "3         0.0  \n",
              "4         0.0  "
            ],
            "text/html": [
              "\n",
              "  <div id=\"df-d206b962-9c4e-45b3-aeaa-bc0d8c3fcaa9\">\n",
              "    <div class=\"colab-df-container\">\n",
              "      <div>\n",
              "<style scoped>\n",
              "    .dataframe tbody tr th:only-of-type {\n",
              "        vertical-align: middle;\n",
              "    }\n",
              "\n",
              "    .dataframe tbody tr th {\n",
              "        vertical-align: top;\n",
              "    }\n",
              "\n",
              "    .dataframe thead th {\n",
              "        text-align: right;\n",
              "    }\n",
              "</style>\n",
              "<table border=\"1\" class=\"dataframe\">\n",
              "  <thead>\n",
              "    <tr style=\"text-align: right;\">\n",
              "      <th></th>\n",
              "      <th>Unnamed: 0</th>\n",
              "      <th>id</th>\n",
              "      <th>timestamp</th>\n",
              "      <th>text</th>\n",
              "      <th>user</th>\n",
              "      <th>artificial</th>\n",
              "    </tr>\n",
              "  </thead>\n",
              "  <tbody>\n",
              "    <tr>\n",
              "      <th>0</th>\n",
              "      <td>0</td>\n",
              "      <td>1450038951205478400</td>\n",
              "      <td>2021-10-18 12:00:01</td>\n",
              "      <td>25/10 (9:00 VN Time) | #GreenFinance | The rol...</td>\n",
              "      <td>f3e7eea57bbc27edeacc</td>\n",
              "      <td>0.0</td>\n",
              "    </tr>\n",
              "    <tr>\n",
              "      <th>1</th>\n",
              "      <td>1</td>\n",
              "      <td>1450038955026501632</td>\n",
              "      <td>2021-10-18 12:00:01</td>\n",
              "      <td>How do we prevent the earth from warming any m...</td>\n",
              "      <td>cb7a6648c19c4dcc38d8</td>\n",
              "      <td>0.0</td>\n",
              "    </tr>\n",
              "    <tr>\n",
              "      <th>2</th>\n",
              "      <td>2</td>\n",
              "      <td>1450038953743163392</td>\n",
              "      <td>2021-10-18 12:00:01</td>\n",
              "      <td>Event for DMU Staff and Students👀❗  26 Ideas f...</td>\n",
              "      <td>edd981dafb529ff6c167</td>\n",
              "      <td>0.0</td>\n",
              "    </tr>\n",
              "    <tr>\n",
              "      <th>3</th>\n",
              "      <td>3</td>\n",
              "      <td>1450038951742423040</td>\n",
              "      <td>2021-10-18 12:00:01</td>\n",
              "      <td>Chair of the Climate Change Advisory Council h...</td>\n",
              "      <td>a684f497e873988c9491</td>\n",
              "      <td>0.0</td>\n",
              "    </tr>\n",
              "    <tr>\n",
              "      <th>4</th>\n",
              "      <td>4</td>\n",
              "      <td>1450038953147572224</td>\n",
              "      <td>2021-10-18 12:00:01</td>\n",
              "      <td>Back in August, it was no surprise when the Un...</td>\n",
              "      <td>214e29e1cffaec3e44b1</td>\n",
              "      <td>0.0</td>\n",
              "    </tr>\n",
              "  </tbody>\n",
              "</table>\n",
              "</div>\n",
              "      <button class=\"colab-df-convert\" onclick=\"convertToInteractive('df-d206b962-9c4e-45b3-aeaa-bc0d8c3fcaa9')\"\n",
              "              title=\"Convert this dataframe to an interactive table.\"\n",
              "              style=\"display:none;\">\n",
              "        \n",
              "  <svg xmlns=\"http://www.w3.org/2000/svg\" height=\"24px\"viewBox=\"0 0 24 24\"\n",
              "       width=\"24px\">\n",
              "    <path d=\"M0 0h24v24H0V0z\" fill=\"none\"/>\n",
              "    <path d=\"M18.56 5.44l.94 2.06.94-2.06 2.06-.94-2.06-.94-.94-2.06-.94 2.06-2.06.94zm-11 1L8.5 8.5l.94-2.06 2.06-.94-2.06-.94L8.5 2.5l-.94 2.06-2.06.94zm10 10l.94 2.06.94-2.06 2.06-.94-2.06-.94-.94-2.06-.94 2.06-2.06.94z\"/><path d=\"M17.41 7.96l-1.37-1.37c-.4-.4-.92-.59-1.43-.59-.52 0-1.04.2-1.43.59L10.3 9.45l-7.72 7.72c-.78.78-.78 2.05 0 2.83L4 21.41c.39.39.9.59 1.41.59.51 0 1.02-.2 1.41-.59l7.78-7.78 2.81-2.81c.8-.78.8-2.07 0-2.86zM5.41 20L4 18.59l7.72-7.72 1.47 1.35L5.41 20z\"/>\n",
              "  </svg>\n",
              "      </button>\n",
              "      \n",
              "  <style>\n",
              "    .colab-df-container {\n",
              "      display:flex;\n",
              "      flex-wrap:wrap;\n",
              "      gap: 12px;\n",
              "    }\n",
              "\n",
              "    .colab-df-convert {\n",
              "      background-color: #E8F0FE;\n",
              "      border: none;\n",
              "      border-radius: 50%;\n",
              "      cursor: pointer;\n",
              "      display: none;\n",
              "      fill: #1967D2;\n",
              "      height: 32px;\n",
              "      padding: 0 0 0 0;\n",
              "      width: 32px;\n",
              "    }\n",
              "\n",
              "    .colab-df-convert:hover {\n",
              "      background-color: #E2EBFA;\n",
              "      box-shadow: 0px 1px 2px rgba(60, 64, 67, 0.3), 0px 1px 3px 1px rgba(60, 64, 67, 0.15);\n",
              "      fill: #174EA6;\n",
              "    }\n",
              "\n",
              "    [theme=dark] .colab-df-convert {\n",
              "      background-color: #3B4455;\n",
              "      fill: #D2E3FC;\n",
              "    }\n",
              "\n",
              "    [theme=dark] .colab-df-convert:hover {\n",
              "      background-color: #434B5C;\n",
              "      box-shadow: 0px 1px 3px 1px rgba(0, 0, 0, 0.15);\n",
              "      filter: drop-shadow(0px 1px 2px rgba(0, 0, 0, 0.3));\n",
              "      fill: #FFFFFF;\n",
              "    }\n",
              "  </style>\n",
              "\n",
              "      <script>\n",
              "        const buttonEl =\n",
              "          document.querySelector('#df-d206b962-9c4e-45b3-aeaa-bc0d8c3fcaa9 button.colab-df-convert');\n",
              "        buttonEl.style.display =\n",
              "          google.colab.kernel.accessAllowed ? 'block' : 'none';\n",
              "\n",
              "        async function convertToInteractive(key) {\n",
              "          const element = document.querySelector('#df-d206b962-9c4e-45b3-aeaa-bc0d8c3fcaa9');\n",
              "          const dataTable =\n",
              "            await google.colab.kernel.invokeFunction('convertToInteractive',\n",
              "                                                     [key], {});\n",
              "          if (!dataTable) return;\n",
              "\n",
              "          const docLinkHtml = 'Like what you see? Visit the ' +\n",
              "            '<a target=\"_blank\" href=https://colab.research.google.com/notebooks/data_table.ipynb>data table notebook</a>'\n",
              "            + ' to learn more about interactive tables.';\n",
              "          element.innerHTML = '';\n",
              "          dataTable['output_type'] = 'display_data';\n",
              "          await google.colab.output.renderOutput(dataTable, element);\n",
              "          const docLink = document.createElement('div');\n",
              "          docLink.innerHTML = docLinkHtml;\n",
              "          element.appendChild(docLink);\n",
              "        }\n",
              "      </script>\n",
              "    </div>\n",
              "  </div>\n",
              "  "
            ]
          },
          "metadata": {},
          "execution_count": 25
        }
      ]
    },
    {
      "cell_type": "code",
      "source": [
        "df = df[[\"text\",\"artificial\"]]\n",
        "print(df[df.isnull().any(axis=1)])\n",
        "\n",
        "df = df.dropna() #let us first remove all rows with NaNs\n",
        "df[[\"artificial\"]] = df[[\"artificial\"]].applymap(np.int64)\n",
        "\n",
        "from sklearn.model_selection import train_test_split\n",
        "\n",
        "train, test = train_test_split(df, test_size=0.2)\n",
        "\n",
        "#mergim ist dumm"
      ],
      "metadata": {
        "id": "RPg6hfkBaazn",
        "outputId": "403bb91c-8da7-44a0-9d4a-70c35a50dbad",
        "colab": {
          "base_uri": "https://localhost:8080/"
        }
      },
      "execution_count": 26,
      "outputs": [
        {
          "output_type": "stream",
          "name": "stdout",
          "text": [
            "           text  artificial\n",
            "13458       NaN         1.0\n",
            "17979  🗓️ Today         NaN\n",
            "17980       NaN         NaN\n",
            "17981       NaN         NaN\n",
            "17982       NaN         NaN\n",
            "31511       NaN         1.0\n",
            "38221       NaN         1.0\n",
            "40854       NaN         1.0\n"
          ]
        }
      ]
    },
    {
      "cell_type": "code",
      "source": [
        "print(df.head())\n",
        "print(len(df))\n",
        "print(len(df.drop_duplicates(subset='text',keep='first')))"
      ],
      "metadata": {
        "id": "gnpQ6ICcYovF",
        "outputId": "4fda10c7-5409-49dd-bfc0-004313b7008c",
        "colab": {
          "base_uri": "https://localhost:8080/"
        }
      },
      "execution_count": 27,
      "outputs": [
        {
          "output_type": "stream",
          "name": "stdout",
          "text": [
            "                                                text  artificial\n",
            "0  25/10 (9:00 VN Time) | #GreenFinance | The rol...           0\n",
            "1  How do we prevent the earth from warming any m...           0\n",
            "2  Event for DMU Staff and Students👀❗  26 Ideas f...           0\n",
            "3  Chair of the Climate Change Advisory Council h...           0\n",
            "4  Back in August, it was no surprise when the Un...           0\n",
            "40991\n",
            "40389\n"
          ]
        }
      ]
    },
    {
      "cell_type": "code",
      "source": [
        "# Convert to Tuple\n",
        "train_set = train.to_records(index=False)\n",
        "test_set = test.to_records(index=False)\n",
        "train_set"
      ],
      "metadata": {
        "id": "jaDLsrKhZhY4",
        "colab": {
          "base_uri": "https://localhost:8080/"
        },
        "outputId": "6ff9538e-e942-4a27-c34c-42e5d80f9a1d"
      },
      "execution_count": 28,
      "outputs": [
        {
          "output_type": "execute_result",
          "data": {
            "text/plain": [
              "rec.array([('@dee3c87eda640ab406d1 I was just watching one of the climate videos and they did a graphic like this. Maybe they should just do this?', 1),\n",
              "           ('’s list of the top 20 BlackSophisticated climate VCs highlights @617b5f50a9968d3e3b72 https://t.co/T9aA0kZYQz', 1),\n",
              "           ('This fight is not over and it won’t be over until we win a safe #climate. Tell your Senator and \"Democrat\" .@a06165f2024181919641: #NoClimateNoDeal.   #ClimateCrisis #ClimateEmergency #ManchinAndSinemaAreTraitors #BuildBackSustainable #RepublicansAreTheProblem  https://t.co/RfpgsKNPAW', 0),\n",
              "           ...,\n",
              "           ('@6efc50d8c295c77347e2 Gotta be $SEA! The SEA project is changing how the world deals with environmental data - it will give us a fighting chance against climate change and ocean pollution! Inevitable 100x minimum 🌎 @6896eb2c5b6810aabf43 🐬 https://t.co/pc3ZaN5gKo 🦈 https://t.co/tT6lPxA4Ts', 0),\n",
              "           ('In this webinar we explore industry issues and challenges in building and using models for climate risk. How can advanced analytics and technology can go beyond identifying and managing #climaterisks to identifying growth opportunities? #risk #banking https://t.co/uJQ50MQAXS https://t.co/IPf00t6TIV', 0),\n",
              "           ('@c105ee0e13d3ffb4b0db Climate change is a fact, not a belief.', 1)],\n",
              "          dtype=[('text', 'O'), ('artificial', '<i8')])"
            ]
          },
          "metadata": {},
          "execution_count": 28
        }
      ]
    },
    {
      "cell_type": "code",
      "source": [
        "from river.naive_bayes import MultinomialNB, BernoulliNB\n",
        "from river.neighbors import KNNClassifier\n",
        "from river.tree import HoeffdingTreeClassifier, ExtremelyFastDecisionTreeClassifier\n",
        "from river import linear_model\n",
        "from river.feature_extraction import BagOfWords,TFIDF\n",
        "from river import preprocessing\n",
        "from river.compose import Pipeline \n",
        "from river import optim"
      ],
      "metadata": {
        "id": "GFnABzATZmM_"
      },
      "execution_count": 29,
      "outputs": []
    },
    {
      "cell_type": "code",
      "source": [
        "# Build Pipeline\n",
        "pipe_nb = Pipeline(('vectorizer',TFIDF()),('nb',MultinomialNB()))\n",
        "pipe_nb"
      ],
      "metadata": {
        "id": "taRE3N06Zx4P",
        "colab": {
          "base_uri": "https://localhost:8080/",
          "height": 158
        },
        "outputId": "06f2362c-ae4a-43b9-dad6-4defc933ab44"
      },
      "execution_count": 30,
      "outputs": [
        {
          "output_type": "execute_result",
          "data": {
            "text/plain": [
              "Pipeline (\n",
              "  TFIDF (\n",
              "    normalize=True\n",
              "    on=None\n",
              "    strip_accents=True\n",
              "    lowercase=True\n",
              "    preprocessor=None\n",
              "    tokenizer=<built-in method findall of re.Pattern object at 0x7fc8b6a57030>\n",
              "    ngram_range=(1, 1)\n",
              "  ),\n",
              "  MultinomialNB (\n",
              "    alpha=1.\n",
              "  )\n",
              ")"
            ],
            "text/html": [
              "<div><div class=\"component pipeline\"><details class=\"component estimator\"><summary><pre class=\"estimator-name\">TFIDF</pre></summary><code class=\"estimator-params\">\n",
              "{'dfs': Counter(),\n",
              " 'lowercase': True,\n",
              " 'n': 0,\n",
              " 'ngram_range': (1, 1),\n",
              " 'normalize': True,\n",
              " 'on': None,\n",
              " 'preprocessor': None,\n",
              " 'processing_steps': [&lt;function strip_accents_unicode at 0x7fc8b9e11b90&gt;,\n",
              "                      &lt;method 'lower' of 'str' objects&gt;,\n",
              "                      &lt;built-in method findall of re.Pattern object at 0x7fc8b6a57030&gt;],\n",
              " 'strip_accents': True,\n",
              " 'tokenizer': &lt;built-in method findall of re.Pattern object at 0x7fc8b6a57030&gt;}\n",
              "\n",
              "</code></details><details class=\"component estimator\"><summary><pre class=\"estimator-name\">MultinomialNB</pre></summary><code class=\"estimator-params\">\n",
              "{'alpha': 1.0,\n",
              " 'class_counts': Counter(),\n",
              " 'class_totals': Counter(),\n",
              " 'feature_counts': defaultdict(&lt;class 'collections.Counter'&gt;, {})}\n",
              "\n",
              "</code></details></div><style scoped>\n",
              ".estimator {\n",
              "    padding: 1em;\n",
              "    border-style: solid;\n",
              "    background: white;\n",
              "}\n",
              "\n",
              ".pipeline {\n",
              "    display: flex;\n",
              "    flex-direction: column;\n",
              "    align-items: center;\n",
              "    background: linear-gradient(#000, #000) no-repeat center / 3px 100%;\n",
              "}\n",
              "\n",
              ".union {\n",
              "    display: flex;\n",
              "    flex-direction: row;\n",
              "    align-items: center;\n",
              "    justify-content: center;\n",
              "    padding: 1em;\n",
              "    border-style: solid;\n",
              "    background: white\n",
              "}\n",
              "\n",
              ".wrapper {\n",
              "    display: flex;\n",
              "    flex-direction: column;\n",
              "    align-items: center;\n",
              "    justify-content: center;\n",
              "    padding: 1em;\n",
              "    border-style: solid;\n",
              "    background: white;\n",
              "}\n",
              "\n",
              ".wrapper > .estimator {\n",
              "    margin-top: 1em;\n",
              "}\n",
              "\n",
              "/* Vertical spacing between steps */\n",
              "\n",
              ".component + .component {\n",
              "    margin-top: 2em;\n",
              "}\n",
              "\n",
              ".union > .estimator {\n",
              "    margin-top: 0;\n",
              "}\n",
              "\n",
              ".union > .pipeline {\n",
              "    margin-top: 0;\n",
              "}\n",
              "\n",
              "/* Spacing within a union of estimators */\n",
              "\n",
              ".union > .component + .component {\n",
              "    margin-left: 1em;\n",
              "}\n",
              "\n",
              "/* Typography */\n",
              "\n",
              ".estimator-params {\n",
              "    display: block;\n",
              "    white-space: pre-wrap;\n",
              "    font-size: 120%;\n",
              "    margin-bottom: -1em;\n",
              "}\n",
              "\n",
              ".estimator > code,\n",
              ".wrapper > details > code {\n",
              "    background-color: white !important;\n",
              "}\n",
              "\n",
              ".estimator-name {\n",
              "    display: inline;\n",
              "    margin: 0;\n",
              "    font-size: 130%;\n",
              "}\n",
              "\n",
              "/* Toggle */\n",
              "\n",
              "summary {\n",
              "    display: flex;\n",
              "    align-items:center;\n",
              "    cursor: pointer;\n",
              "}\n",
              "\n",
              "summary > div {\n",
              "    width: 100%;\n",
              "}\n",
              "</style></div>"
            ]
          },
          "metadata": {},
          "execution_count": 30
        }
      ]
    },
    {
      "cell_type": "code",
      "source": [
        "# Specify Steps\n",
        "pipe_nb.steps"
      ],
      "metadata": {
        "id": "Y5a8nMPaZ3Ck",
        "colab": {
          "base_uri": "https://localhost:8080/"
        },
        "outputId": "24ea44cf-a107-4faa-d34a-89b098952de3"
      },
      "execution_count": 31,
      "outputs": [
        {
          "output_type": "execute_result",
          "data": {
            "text/plain": [
              "OrderedDict([('vectorizer', TFIDF (\n",
              "                normalize=True\n",
              "                on=None\n",
              "                strip_accents=True\n",
              "                lowercase=True\n",
              "                preprocessor=None\n",
              "                tokenizer=<built-in method findall of re.Pattern object at 0x7fc8b6a57030>\n",
              "                ngram_range=(1, 1)\n",
              "              )), ('nb', MultinomialNB (\n",
              "                alpha=1.\n",
              "              ))])"
            ]
          },
          "metadata": {},
          "execution_count": 31
        }
      ]
    },
    {
      "cell_type": "code",
      "source": [
        "# Train\n",
        "for text,label in tqdm(train_set):\n",
        "    pipe_nb = pipe_nb.learn_one(text,label)"
      ],
      "metadata": {
        "id": "ufiZiUCBZ502",
        "colab": {
          "base_uri": "https://localhost:8080/",
          "height": 49,
          "referenced_widgets": [
            "26316eb0b7174411ada23c306c2b9305",
            "3044af9829dc42879425cd36d1a1e626",
            "594665a1dcde464aa545bbc6909ad242",
            "314478a5c1f3487b86f274ba70d19fcb",
            "a9d79ea8ea1c45c1b81a3b5ab541fb4d",
            "3bce806ce7ea470a9ac63075fed76bf5",
            "de8f1f2f55354ba9a44d2c7fe3303669",
            "bc22cb856455453c82b9c8871b5ba04c",
            "ea69f72993f14e5d8102fa66c8bb7efb",
            "d78d2612effd4edfa2d28db956e4db55",
            "d44c3fb1841c497aaed82ebb8a9eb0ef"
          ]
        },
        "outputId": "7359ca79-156a-4084-b914-2ef5baf7c68c"
      },
      "execution_count": 32,
      "outputs": [
        {
          "output_type": "display_data",
          "data": {
            "text/plain": [
              "  0%|          | 0/32792 [00:00<?, ?it/s]"
            ],
            "application/vnd.jupyter.widget-view+json": {
              "version_major": 2,
              "version_minor": 0,
              "model_id": "26316eb0b7174411ada23c306c2b9305"
            }
          },
          "metadata": {}
        }
      ]
    },
    {
      "cell_type": "code",
      "source": [
        "# Make a Prediction\n",
        "test = 'Mergim ist keine Maschine'\n",
        "pred = pipe_nb.predict_one(test)\n",
        "# Prediction Prob\n",
        "proba_ = pipe_nb.predict_proba_one(test)\n",
        "print('Predicted test sentence as',pred,' and probability of classes for test as',proba_)"
      ],
      "metadata": {
        "id": "TEpnQ2aNbFy3",
        "colab": {
          "base_uri": "https://localhost:8080/"
        },
        "outputId": "5ef529c2-9ebd-4242-bdb4-02f7d40dc11e"
      },
      "execution_count": 33,
      "outputs": [
        {
          "output_type": "stream",
          "name": "stdout",
          "text": [
            "Predicted test sentence as 1  and probability of classes for test as {1: 0.5481869845600976, 0: 0.4518130154399009}\n"
          ]
        }
      ]
    },
    {
      "cell_type": "code",
      "source": [
        "test_set[0][0]"
      ],
      "metadata": {
        "id": "wr_CX2VefirW",
        "colab": {
          "base_uri": "https://localhost:8080/",
          "height": 35
        },
        "outputId": "2c7b6202-7a78-4416-be61-4c5616f2bf38"
      },
      "execution_count": 34,
      "outputs": [
        {
          "output_type": "execute_result",
          "data": {
            "text/plain": [
              "'- Navigating between climate denial and climate delay (Kari Norskog | PreventionWeb | University of California, Berkeley) https://t.co/EzH7yYqfTq via @3f9752959ec6ce1844d9'"
            ],
            "application/vnd.google.colaboratory.intrinsic+json": {
              "type": "string"
            }
          },
          "metadata": {},
          "execution_count": 34
        }
      ]
    },
    {
      "cell_type": "code",
      "source": [
        "example = test_set[0]\n",
        "pred = pipe_nb.predict_one(example[0])\n",
        "# Prediction Prob\n",
        "proba_ = pipe_nb.predict_proba_one(example[0])\n",
        "print('sentence:',example[0])\n",
        "print('Predicted test sentence as',pred,' and probability of classes for test as',proba_)\n",
        "print('True Label:',example[1])"
      ],
      "metadata": {
        "id": "bYpY6qByfFOb",
        "colab": {
          "base_uri": "https://localhost:8080/"
        },
        "outputId": "2685df4a-b941-4454-8c7c-b1a20c6351e8"
      },
      "execution_count": 35,
      "outputs": [
        {
          "output_type": "stream",
          "name": "stdout",
          "text": [
            "sentence: - Navigating between climate denial and climate delay (Kari Norskog | PreventionWeb | University of California, Berkeley) https://t.co/EzH7yYqfTq via @3f9752959ec6ce1844d9\n",
            "Predicted test sentence as 0  and probability of classes for test as {1: 0.39201320556875924, 0: 0.6079867944312388}\n",
            "True Label: 1\n"
          ]
        }
      ]
    },
    {
      "cell_type": "code",
      "source": [
        "# Update the Model on the test data & Check Accuracy\n",
        "metric = river.metrics.F1()\n",
        "acc = river.metrics.Accuracy()\n",
        "metrics = []\n",
        "Accuracys = []\n",
        "for text,label in tqdm(test_set):\n",
        "    y_pred_before = pipe_nb.predict_one(text)\n",
        "    metric = metric.update(label,y_pred_before)\n",
        "    acc = acc.update(label,y_pred_before)\n",
        "    metrics.append(metric.get())\n",
        "    Accuracys.append(acc.get())\n",
        "    # Has already learnt the pattern\n",
        "    #pipe_nb = pipe_nb.learn_one(text,label)\n",
        "print(metric)"
      ],
      "metadata": {
        "id": "gYTflsBQbUr3",
        "colab": {
          "base_uri": "https://localhost:8080/",
          "height": 66,
          "referenced_widgets": [
            "650afad2108f43e78d91d6c774f65310",
            "8db5dd3f296f4ee785974ccaa6b9efc6",
            "15888c7afc3f48a9ae80366d21af8257",
            "4c81fba71e614a738636e376d841ec89",
            "169618b785f04f918add689f4f8b49ef",
            "6a73952d8972483a99c1a789b2f89c82",
            "85d84d989f89429284eacc26bde02722",
            "2694ce13eeb44b8abfdc5dd27c415586",
            "8c3ce6ec6cda40b48f794b839a2d41f2",
            "53853a5b2f234131bc5b803d8be87a34",
            "bc11aaf8d8494a239d4b1eda0f723b65"
          ]
        },
        "outputId": "fdaa414a-4f16-4f21-ffa7-5f0f0865bc64"
      },
      "execution_count": 58,
      "outputs": [
        {
          "output_type": "display_data",
          "data": {
            "text/plain": [
              "  0%|          | 0/8199 [00:00<?, ?it/s]"
            ],
            "application/vnd.jupyter.widget-view+json": {
              "version_major": 2,
              "version_minor": 0,
              "model_id": "650afad2108f43e78d91d6c774f65310"
            }
          },
          "metadata": {}
        },
        {
          "output_type": "stream",
          "name": "stdout",
          "text": [
            "F1: 55.68%\n"
          ]
        }
      ]
    },
    {
      "cell_type": "code",
      "source": [
        "import matplotlib.pyplot as plt\n",
        "plt.plot(Accuracys)\n"
      ],
      "metadata": {
        "id": "SZp_9P73suQg",
        "outputId": "bfa2df55-bd0d-43ab-8f12-7d721a772c88",
        "colab": {
          "base_uri": "https://localhost:8080/",
          "height": 282
        }
      },
      "execution_count": 60,
      "outputs": [
        {
          "output_type": "execute_result",
          "data": {
            "text/plain": [
              "[<matplotlib.lines.Line2D at 0x7fc8b8c3f2d0>]"
            ]
          },
          "metadata": {},
          "execution_count": 60
        },
        {
          "output_type": "display_data",
          "data": {
            "text/plain": [
              "<Figure size 432x288 with 1 Axes>"
            ],
            "image/png": "[encoded data removed]"
          },
          "metadata": {
            "needs_background": "light"
          }
        }
      ]
    }
  ]
}